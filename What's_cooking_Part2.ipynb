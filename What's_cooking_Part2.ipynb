{
  "cells": [
    {
      "cell_type": "markdown",
      "metadata": {
        "id": "JaoKQ_2tpIpc"
      },
      "source": [
        "# What's  Cooking Project - Part2\n",
        "### by Pauline Gerritsen, Shubhada Gopale, Stanislav Ivashkevich, Sumithra Hariguruprasad"
      ]
    },
    {
      "cell_type": "markdown",
      "metadata": {
        "id": "iThPRtIFpIpr"
      },
      "source": [
        "## Introduction"
      ]
    },
    {
      "cell_type": "markdown",
      "metadata": {
        "id": "c2-vqeiBpIpu"
      },
      "source": [
        "We explored the data in the What's_cooking_Part1 notebook. Now lets do some modelling.\n",
        "In order to prepare the data for modelling we need to follow the following steps:\n",
        "1. Separate each ingredient in each recipe.\n",
        "2. Remove all the numbers, special characters, non relevant words.\n",
        "3. Find the root of the ingredients. I.e. combine ingredients like tomatoes and tomato into one.\n",
        "4. Get count of each of the ingredient words in each recipe.\n",
        "5. Create a vector having all the ingredients combined from all the recipes. Create a vector representation for each recipe.\n",
        "6. Encode the cuisine categories.\n",
        "7. Pass these X vector, y to models."
      ]
    },
    {
      "cell_type": "markdown",
      "metadata": {
        "id": "YelML0LQpIpx"
      },
      "source": [
        "General Steps for Text Processing:\n",
        "1. Lower casing - Lowercasing ALL your text data\n",
        "2. Stemming - Stemming is the process of reducing inflection in words (e.g. troubled, troubles) to their root form (e.g. trouble). The “root” in this case may not be a real root word, but just a canonical form of the original word. Stemming uses a crude heuristic process that chops off the ends of words in the hope of correctly transforming words into its root form. So the words “trouble”, “troubled” and “troubles” might actually be converted to troubl instead of trouble because the ends were just chopped off. Most common algorith for stemming is Porter's algorithm.\n",
        "3. Stopword Removal - Stop words are a set of commonly used words in a language. Examples of stop words in English are “a”, “the”, “is”, “are” and etc. The intuition behind using stop words is that, by removing low information words from text, we can focus on the important words instead. In our case it helps remove non relevant words like numbers, units, other words like fresh, add, country etc. It does help reduce the number of features.\n",
        "4. Tokenization - Tokenizing strings and giving an integer id for each possible token, for instance by using white-spaces and punctuation as token separators. The CountVectorizer/TfidfVectoriser have this inbuilt.\n",
        "5. Counting the occurrences of tokens in each document. Each individual token occurrence frequency (normalized or not) is treated as a feature. The CountVectoriser does this.\n",
        "6. normalizing and weighting with diminishing importance tokens that occur in the majority of samples / documents. TfidfVectorizer does this.\n",
        "We call vectorization the general process of turning a collection of text documents into numerical feature vectors. This specific strategy (tokenization, counting and normalization) is called the Bag of Words or “Bag of n-grams” representation. Documents are described by word occurrences while completely ignoring the relative position information of the words in the document. \n",
        "5. Train model with these vectors and evaluate.\n"
      ]
    },
    {
      "cell_type": "markdown",
      "metadata": {
        "id": "bdCeVe5WpIp1"
      },
      "source": [
        "### Import libraries"
      ]
    },
    {
      "cell_type": "code",
      "execution_count": null,
      "metadata": {
        "id": "imIOwTS9bMde"
      },
      "outputs": [],
      "source": [
        "# Import the required libraries \n",
        "\n",
        "import pandas as pd\n",
        "import numpy as np\n",
        "import json\n",
        "import re\n",
        "import matplotlib.pyplot as plt\n",
        "import seaborn as sns\n",
        "\n",
        "#Splitting the dataset\n",
        "from sklearn.model_selection import train_test_split\n",
        "\n",
        "#Text extraction\n",
        "from nltk.stem import PorterStemmer # for finding the root words\n",
        "from sklearn.feature_extraction.text import CountVectorizer\n",
        "from sklearn.feature_extraction.text import TfidfVectorizer\n",
        "from sklearn.preprocessing import LabelEncoder\n",
        "\n",
        "#Classifiers\n",
        "from sklearn.svm import LinearSVC\n",
        "from sklearn.ensemble import RandomForestClassifier\n",
        "from sklearn.linear_model import LogisticRegression\n",
        "from sklearn.tree import DecisionTreeClassifier\n",
        "from sklearn.naive_bayes import MultinomialNB\n",
        "from sklearn.ensemble import VotingClassifier\n",
        "\n",
        "#Pipeline\n",
        "from sklearn.pipeline import Pipeline\n",
        "\n",
        "#Tuning\n",
        "from sklearn.model_selection import GridSearchCV\n",
        "from sklearn.model_selection import cross_validate\n",
        "\n",
        "#Metrics\n",
        "from sklearn.metrics import accuracy_score\n",
        "from sklearn.metrics import confusion_matrix\n",
        "from sklearn.metrics import classification_report\n",
        "\n",
        "#Imbalanced dataset\n",
        "from imblearn.over_sampling import SMOTE\n",
        "\n",
        "from warnings import simplefilter\n",
        "# ignore all future warnings\n",
        "simplefilter(action='ignore', category=FutureWarning)"
      ]
    },
    {
      "cell_type": "markdown",
      "metadata": {
        "id": "qqp9xvCQpIp-"
      },
      "source": [
        "### Load dataset"
      ]
    },
    {
      "cell_type": "code",
      "execution_count": null,
      "metadata": {
        "id": "enxpZvBibMdh"
      },
      "outputs": [],
      "source": [
        "#Import data\n",
        "\n",
        "train = pd.read_json('train.json')"
      ]
    },
    {
      "cell_type": "markdown",
      "metadata": {
        "id": "IhrVCLr5pIqC"
      },
      "source": [
        "##### The 'Ingredients' column is a list, converting it to normal string for processing"
      ]
    },
    {
      "cell_type": "code",
      "execution_count": null,
      "metadata": {
        "id": "DgaCQ8t7bMdj",
        "outputId": "834c7f1d-92ea-4d29-b26d-77f8c45181f8"
      },
      "outputs": [
        {
          "data": {
            "text/html": [
              "<div>\n",
              "<style scoped>\n",
              "    .dataframe tbody tr th:only-of-type {\n",
              "        vertical-align: middle;\n",
              "    }\n",
              "\n",
              "    .dataframe tbody tr th {\n",
              "        vertical-align: top;\n",
              "    }\n",
              "\n",
              "    .dataframe thead th {\n",
              "        text-align: right;\n",
              "    }\n",
              "</style>\n",
              "<table border=\"1\" class=\"dataframe\">\n",
              "  <thead>\n",
              "    <tr style=\"text-align: right;\">\n",
              "      <th></th>\n",
              "      <th>cuisine</th>\n",
              "      <th>id</th>\n",
              "      <th>ingredients</th>\n",
              "      <th>separated_ingredients</th>\n",
              "    </tr>\n",
              "  </thead>\n",
              "  <tbody>\n",
              "    <tr>\n",
              "      <th>0</th>\n",
              "      <td>greek</td>\n",
              "      <td>10259</td>\n",
              "      <td>[romaine lettuce, black olives, grape tomatoes...</td>\n",
              "      <td>romaine lettuce,black olives,grape tomatoes,ga...</td>\n",
              "    </tr>\n",
              "    <tr>\n",
              "      <th>1</th>\n",
              "      <td>southern_us</td>\n",
              "      <td>25693</td>\n",
              "      <td>[plain flour, ground pepper, salt, tomatoes, g...</td>\n",
              "      <td>plain flour,ground pepper,salt,tomatoes,ground...</td>\n",
              "    </tr>\n",
              "    <tr>\n",
              "      <th>2</th>\n",
              "      <td>filipino</td>\n",
              "      <td>20130</td>\n",
              "      <td>[eggs, pepper, salt, mayonaise, cooking oil, g...</td>\n",
              "      <td>eggs,pepper,salt,mayonaise,cooking oil,green c...</td>\n",
              "    </tr>\n",
              "    <tr>\n",
              "      <th>3</th>\n",
              "      <td>indian</td>\n",
              "      <td>22213</td>\n",
              "      <td>[water, vegetable oil, wheat, salt]</td>\n",
              "      <td>water,vegetable oil,wheat,salt</td>\n",
              "    </tr>\n",
              "    <tr>\n",
              "      <th>4</th>\n",
              "      <td>indian</td>\n",
              "      <td>13162</td>\n",
              "      <td>[black pepper, shallots, cornflour, cayenne pe...</td>\n",
              "      <td>black pepper,shallots,cornflour,cayenne pepper...</td>\n",
              "    </tr>\n",
              "  </tbody>\n",
              "</table>\n",
              "</div>"
            ],
            "text/plain": [
              "       cuisine     id                                        ingredients  \\\n",
              "0        greek  10259  [romaine lettuce, black olives, grape tomatoes...   \n",
              "1  southern_us  25693  [plain flour, ground pepper, salt, tomatoes, g...   \n",
              "2     filipino  20130  [eggs, pepper, salt, mayonaise, cooking oil, g...   \n",
              "3       indian  22213                [water, vegetable oil, wheat, salt]   \n",
              "4       indian  13162  [black pepper, shallots, cornflour, cayenne pe...   \n",
              "\n",
              "                               separated_ingredients  \n",
              "0  romaine lettuce,black olives,grape tomatoes,ga...  \n",
              "1  plain flour,ground pepper,salt,tomatoes,ground...  \n",
              "2  eggs,pepper,salt,mayonaise,cooking oil,green c...  \n",
              "3                     water,vegetable oil,wheat,salt  \n",
              "4  black pepper,shallots,cornflour,cayenne pepper...  "
            ]
          },
          "execution_count": 3,
          "metadata": {},
          "output_type": "execute_result"
        }
      ],
      "source": [
        "train['separated_ingredients'] = train['ingredients'].apply(','.join)\n",
        "train.head(5)"
      ]
    },
    {
      "cell_type": "markdown",
      "metadata": {
        "id": "TcVD96vnpIqI"
      },
      "source": [
        "#### Outliers removal"
      ]
    },
    {
      "cell_type": "markdown",
      "metadata": {
        "id": "NHZhwxCtpIqJ"
      },
      "source": [
        "Since only 22 recipes can be considered as outliers we are not removing them."
      ]
    },
    {
      "cell_type": "markdown",
      "metadata": {
        "id": "82EpSHsOpIqK"
      },
      "source": [
        "##### Saving the target variable separately"
      ]
    },
    {
      "cell_type": "code",
      "execution_count": null,
      "metadata": {
        "id": "H0Q1JNL5bMdk"
      },
      "outputs": [],
      "source": [
        "target = train.cuisine"
      ]
    },
    {
      "cell_type": "markdown",
      "metadata": {
        "id": "LL25Z6i5pIqN"
      },
      "source": [
        "##### This is our custom stopword list which has all the words we think are not relevant in classifying the cuisine"
      ]
    },
    {
      "cell_type": "code",
      "execution_count": null,
      "metadata": {
        "id": "_90olnZBLc95"
      },
      "outputs": [],
      "source": [
        "stopwords = ['oz', 'ml', 'lb', 'g','kg','ground', 'fresh', 'accompaniment', 'acting', 'added', 'aka','all',\n",
        "             'an', 'and', 'any','ao', 'au','based','beaters','beaten','bee', 'believe','believ','best','blade',\n",
        "            'boil','bottle','bottled','bottom','bottoms','bought', 'brand','broad', 'california', 'calorie',\n",
        "             'campbell', 'center', 'challenge', 'classic', 'cloud', 'club', 'collect', 'comfort',\n",
        "            'compressed', 'con', 'concentrate', 'cooking', 'country', 'covered', 'culinary', 'cut', 'cuts', 'diamond', \n",
        "            'diced', 'diet', 'digestive', 'dinner', 'dinosaur', 'disco', 'dish', 'distilled', 'do', 'domino', 'double', 'doubl',\n",
        "            'drain', 'drained', 'dress', 'drink', 'energy', 'english', 'equal', 'extra', 'farm', 'farmer', 'farms', 'fashioned',\n",
        "            'fast', 'fatfree', 'field', 'filled', 'fine', 'finely', 'firm', 'firmly', 'flat', 'fluff', 'food', 'forest', 'for',\n",
        "            'four', 'free', 'freshly', 'full', 'fully', 'giant', 'good', 'grade', 'grand', 'granny', 'grated', 'grating', 'hair',\n",
        "            'half', 'hand', 'hidden','home','homemade','homestyl','hothouse', 'imitation', 'imperial', 'in', 'inch', 'instant',\n",
        "            'into','island','islands','it','kitchen','lady','land','layer','less','light','lite','low','lowfat','lower','made',\n",
        "            'mary','me','mild','mince','mini','miniature','minute','miracle','mix','mrs','natural','new','no','nonfat',\n",
        "            'nonstick','of','old','on','one','or','oven','pain','pan','paper','part','parts','peel','peeled', 'piece', 'pieces',\n",
        "            'plus','pot','pound','prebaked','precooked','premium','prepared', 'prepar','promise','pure','quick','ready','real',\n",
        "            'regular', 'rich','serving','short','side','simple','size','stir','store','straight','success','thousand','to',\n",
        "            'well','wok','world',]"
      ]
    },
    {
      "cell_type": "markdown",
      "metadata": {
        "id": "FwYD508qpIqQ"
      },
      "source": [
        "##### This step will only extract the words from the ingredients list and ignore all special characters or numbers. For each recipe it will give the ingredients separately in one sentence\n"
      ]
    },
    {
      "cell_type": "code",
      "execution_count": null,
      "metadata": {
        "id": "OwQFDTwdLc94"
      },
      "outputs": [],
      "source": [
        "x = [re.sub('[^a-zA-Z]',' ',doc) for doc in train['separated_ingredients'] ]"
      ]
    },
    {
      "cell_type": "markdown",
      "metadata": {
        "id": "JT_yBxZ1pIqT"
      },
      "source": [
        "##### We need to split each sentence into list of words for each recipe"
      ]
    },
    {
      "cell_type": "code",
      "execution_count": null,
      "metadata": {
        "id": "fE5Ek9iQLc97"
      },
      "outputs": [],
      "source": [
        "document = [doc.split() for doc in x ] "
      ]
    },
    {
      "cell_type": "markdown",
      "metadata": {
        "id": "ixWCIdlFpIqU"
      },
      "source": [
        "#### Stemming function"
      ]
    },
    {
      "cell_type": "code",
      "execution_count": null,
      "metadata": {
        "id": "uD7NysWELc9_"
      },
      "outputs": [],
      "source": [
        "# Defining our stemmer\n",
        "ps = PorterStemmer()\n",
        "\n",
        "# This function will convert the word to lowercase and return the stem of each word. \n",
        "# It will ignore the words present in stopwords\n",
        "def convert(words) :\n",
        "  \n",
        "    current_words = list()\n",
        "    for i in words :\n",
        "        if i.lower() not in stopwords :\n",
        "            \n",
        "            updated_word = ps.stem(i)\n",
        "            current_words.append(updated_word.lower())\n",
        "    return current_words"
      ]
    },
    {
      "cell_type": "code",
      "execution_count": null,
      "metadata": {
        "id": "GE2PcTFeLc-B"
      },
      "outputs": [],
      "source": [
        "# Call the function convert to do the stemming of the words. The document is updated inplace\n",
        "document = [ convert(doc)   for doc in document ] "
      ]
    },
    {
      "cell_type": "code",
      "execution_count": null,
      "metadata": {
        "id": "rludz1V7Lc-D"
      },
      "outputs": [],
      "source": [
        "# Again join the words into sentences\n",
        "document = [ \" \".join(doc) for doc in document] "
      ]
    },
    {
      "cell_type": "markdown",
      "metadata": {
        "id": "Y9YWMw-spIqY"
      },
      "source": [
        "#### Encoding the Cuisines"
      ]
    },
    {
      "cell_type": "code",
      "execution_count": null,
      "metadata": {
        "id": "hoG_dzPobMdt"
      },
      "outputs": [],
      "source": [
        "# The column 'Cuisine' is the target variable. Use LabelEncoder to label the multiple classes\n",
        "lb = LabelEncoder()\n",
        "y = lb.fit_transform(target)"
      ]
    },
    {
      "cell_type": "code",
      "execution_count": null,
      "metadata": {
        "id": "z1tupuYypIqa",
        "outputId": "47e77387-96cd-49c5-b49e-a12a8041d86e"
      },
      "outputs": [
        {
          "data": {
            "text/plain": [
              "array(['brazilian', 'british', 'cajun_creole', 'chinese', 'filipino',\n",
              "       'french', 'greek', 'indian', 'irish', 'italian', 'jamaican',\n",
              "       'japanese', 'korean', 'mexican', 'moroccan', 'russian',\n",
              "       'southern_us', 'spanish', 'thai', 'vietnamese'], dtype=object)"
            ]
          },
          "execution_count": 12,
          "metadata": {},
          "output_type": "execute_result"
        }
      ],
      "source": [
        "lb.classes_"
      ]
    },
    {
      "cell_type": "markdown",
      "metadata": {
        "id": "4ZO-WhQZpIqb"
      },
      "source": [
        "#### Split dataset into train and test"
      ]
    },
    {
      "cell_type": "code",
      "execution_count": null,
      "metadata": {
        "id": "_Wj8u53KLc-H"
      },
      "outputs": [],
      "source": [
        "#Write a code to split your dataset into 70/30 dataset\n",
        "xtrain , xtest , y_train , y_test = train_test_split(document,y,test_size=0.3, random_state=42)"
      ]
    },
    {
      "cell_type": "code",
      "execution_count": null,
      "metadata": {
        "id": "ZPZAPrjKLc-M",
        "outputId": "ed1d5122-4388-46e2-8c02-55f71b4fbdf0"
      },
      "outputs": [
        {
          "name": "stdout",
          "output_type": "stream",
          "text": [
            "27841 11933 27841 11933\n"
          ]
        }
      ],
      "source": [
        "print(len(xtrain), len(xtest), len(y_train), len(y_test))"
      ]
    },
    {
      "cell_type": "code",
      "metadata": {
        "id": "Etdgw_oULc-K"
      },
      "source": [
        "## Modelling"
      ],
      "execution_count": null,
      "outputs": []
    },
    {
      "cell_type": "markdown",
      "metadata": {
        "id": "qcdESK6ZpIqe"
      },
      "source": [
        "#### Lets try a few classifiers using a pipeline to select the best scoring"
      ]
    },
    {
      "cell_type": "code",
      "execution_count": null,
      "metadata": {
        "id": "o2ClQMZ1bMeM"
      },
      "outputs": [],
      "source": [
        "#Defining a pipeline\n",
        "\n",
        "pipeline = Pipeline([\n",
        "    ('Countvect', CountVectorizer(analyzer='word', stop_words=stopwords)), #Step1 - count vectoriser\n",
        "    ('clf', LogisticRegression())                                          #Step2 - classifier\n",
        "])\n",
        "\n",
        "#Select classifiers to try\n",
        "clfs = []\n",
        "clfs.append(LogisticRegression(multi_class='multinomial', solver='lbfgs', C=5, max_iter=800))\n",
        "clfs.append(LinearSVC())\n",
        "clfs.append(DecisionTreeClassifier(max_depth=15))\n",
        "clfs.append(RandomForestClassifier(n_estimators=100, max_depth=20,random_state=42))\n",
        "clfs.append(MultinomialNB())"
      ]
    },
    {
      "cell_type": "code",
      "execution_count": null,
      "metadata": {
        "id": "wXMZBA_FbMeR",
        "outputId": "97ae511d-f21a-4430-ce95-ede8e9e7c34a"
      },
      "outputs": [
        {
          "name": "stdout",
          "output_type": "stream",
          "text": [
            "---------------------------------\n",
            "LogisticRegression(C=5, class_weight=None, dual=False, fit_intercept=True,\n",
            "                   intercept_scaling=1, l1_ratio=None, max_iter=800,\n",
            "                   multi_class='multinomial', n_jobs=None, penalty='l2',\n",
            "                   random_state=None, solver='lbfgs', tol=0.0001, verbose=0,\n",
            "                   warm_start=False)\n",
            "-----------------------------------\n",
            "mean train accuracy  0.9037929625095589\n",
            "mean test accuracy  0.7584851478318426\n"
          ]
        },
        {
          "name": "stderr",
          "output_type": "stream",
          "text": [
            "C:\\Users\\maleg\\Anaconda3\\lib\\site-packages\\sklearn\\svm\\base.py:929: ConvergenceWarning: Liblinear failed to converge, increase the number of iterations.\n",
            "  \"the number of iterations.\", ConvergenceWarning)\n",
            "C:\\Users\\maleg\\Anaconda3\\lib\\site-packages\\sklearn\\svm\\base.py:929: ConvergenceWarning: Liblinear failed to converge, increase the number of iterations.\n",
            "  \"the number of iterations.\", ConvergenceWarning)\n",
            "C:\\Users\\maleg\\Anaconda3\\lib\\site-packages\\sklearn\\svm\\base.py:929: ConvergenceWarning: Liblinear failed to converge, increase the number of iterations.\n",
            "  \"the number of iterations.\", ConvergenceWarning)\n"
          ]
        },
        {
          "name": "stdout",
          "output_type": "stream",
          "text": [
            "---------------------------------\n",
            "LinearSVC(C=1.0, class_weight=None, dual=True, fit_intercept=True,\n",
            "          intercept_scaling=1, loss='squared_hinge', max_iter=1000,\n",
            "          multi_class='ovr', penalty='l2', random_state=None, tol=0.0001,\n",
            "          verbose=0)\n",
            "-----------------------------------\n",
            "mean train accuracy  0.8880249943080188\n",
            "mean test accuracy  0.7618611487131313\n",
            "---------------------------------\n",
            "DecisionTreeClassifier(class_weight=None, criterion='gini', max_depth=15,\n",
            "                       max_features=None, max_leaf_nodes=None,\n",
            "                       min_impurity_decrease=0.0, min_impurity_split=None,\n",
            "                       min_samples_leaf=1, min_samples_split=2,\n",
            "                       min_weight_fraction_leaf=0.0, presort=False,\n",
            "                       random_state=None, splitter='best')\n",
            "-----------------------------------\n",
            "mean train accuracy  0.6024385008895584\n",
            "mean test accuracy  0.5390998285569897\n",
            "---------------------------------\n",
            "RandomForestClassifier(bootstrap=True, class_weight=None, criterion='gini',\n",
            "                       max_depth=20, max_features='auto', max_leaf_nodes=None,\n",
            "                       min_impurity_decrease=0.0, min_impurity_split=None,\n",
            "                       min_samples_leaf=1, min_samples_split=2,\n",
            "                       min_weight_fraction_leaf=0.0, n_estimators=100,\n",
            "                       n_jobs=None, oob_score=False, random_state=42, verbose=0,\n",
            "                       warm_start=False)\n",
            "-----------------------------------\n",
            "mean train accuracy  0.7484650222754289\n",
            "mean test accuracy  0.6429374058081438\n",
            "---------------------------------\n",
            "MultinomialNB(alpha=1.0, class_prior=None, fit_prior=True)\n",
            "-----------------------------------\n",
            "mean train accuracy  0.747763900428199\n",
            "mean test accuracy  0.7201259236684856\n"
          ]
        }
      ],
      "source": [
        "for classifier in clfs:\n",
        "    pipeline.set_params(clf = classifier)\n",
        "    scores = cross_validate(pipeline, xtrain, y_train, return_train_score=True,cv=3)\n",
        "    print('---------------------------------')\n",
        "    print(str(classifier))\n",
        "    print('-----------------------------------')\n",
        "    print('mean train accuracy ', scores['train_score'].mean())\n",
        "    print('mean test accuracy ', scores['test_score'].mean())"
      ]
    },
    {
      "cell_type": "code",
      "metadata": {
        "id": "bGiLKcJypIqg"
      },
      "source": [
        "###### At first glance MultinomialNB is giving best results without overfitting. Logistic and LinearSVC seems to overfit a bit. There seems room for improvement for Randomforest"
      ],
      "execution_count": null,
      "outputs": []
    },
    {
      "cell_type": "code",
      "metadata": {
        "id": "i6jqANDmpIqh"
      },
      "source": [
        "### Lets try the pipeline with TfidfVectoriser, which will give weight to less frequent words"
      ],
      "execution_count": null,
      "outputs": []
    },
    {
      "cell_type": "code",
      "execution_count": null,
      "metadata": {
        "id": "UEIfUwxypIqi",
        "outputId": "033f3359-2414-4fa2-952c-4c8dbf0c0a51"
      },
      "outputs": [
        {
          "name": "stdout",
          "output_type": "stream",
          "text": [
            "---------------------------------\n",
            "LogisticRegression(C=5, class_weight=None, dual=False, fit_intercept=True,\n",
            "                   intercept_scaling=1, l1_ratio=None, max_iter=800,\n",
            "                   multi_class='multinomial', n_jobs=None, penalty='l2',\n",
            "                   random_state=None, solver='lbfgs', tol=0.0001, verbose=0,\n",
            "                   warm_start=False)\n",
            "-----------------------------------\n",
            "mean train accuracy  0.8667254992643301\n",
            "mean test accuracy  0.7774153532103232\n",
            "---------------------------------\n",
            "LinearSVC(C=1.0, class_weight=None, dual=True, fit_intercept=True,\n",
            "          intercept_scaling=1, loss='squared_hinge', max_iter=1000,\n",
            "          multi_class='ovr', penalty='l2', random_state=None, tol=0.0001,\n",
            "          verbose=0)\n",
            "-----------------------------------\n",
            "mean train accuracy  0.8673363008201029\n",
            "mean test accuracy  0.7779892560167404\n",
            "---------------------------------\n",
            "DecisionTreeClassifier(class_weight=None, criterion='gini', max_depth=15,\n",
            "                       max_features=None, max_leaf_nodes=None,\n",
            "                       min_impurity_decrease=0.0, min_impurity_split=None,\n",
            "                       min_samples_leaf=1, min_samples_split=2,\n",
            "                       min_weight_fraction_leaf=0.0, presort=False,\n",
            "                       random_state=None, splitter='best')\n",
            "-----------------------------------\n",
            "mean train accuracy  0.6039112129600992\n",
            "mean test accuracy  0.5329924311450298\n",
            "---------------------------------\n",
            "RandomForestClassifier(bootstrap=True, class_weight=None, criterion='gini',\n",
            "                       max_depth=20, max_features='auto', max_leaf_nodes=None,\n",
            "                       min_impurity_decrease=0.0, min_impurity_split=None,\n",
            "                       min_samples_leaf=1, min_samples_split=2,\n",
            "                       min_weight_fraction_leaf=0.0, n_estimators=100,\n",
            "                       n_jobs=None, oob_score=False, random_state=42, verbose=0,\n",
            "                       warm_start=False)\n",
            "-----------------------------------\n",
            "mean train accuracy  0.7543553188705233\n",
            "mean test accuracy  0.6388786456424521\n",
            "---------------------------------\n",
            "MultinomialNB(alpha=1.0, class_prior=None, fit_prior=True)\n",
            "-----------------------------------\n",
            "mean train accuracy  0.6746342210449522\n",
            "mean test accuracy  0.6564426639422509\n"
          ]
        }
      ],
      "source": [
        "#Lets try th same with Tfidf\n",
        "pipeline_tf = Pipeline([\n",
        "    ('Tfvect', TfidfVectorizer(analyzer='word', stop_words=stopwords)), #Step1 - Tfidf vectoriser\n",
        "    ('clf', LogisticRegression())                                       #Step2 - classifier\n",
        "])\n",
        "\n",
        "for classifier in clfs:\n",
        "    pipeline_tf.set_params(clf = classifier)\n",
        "    scores = cross_validate(pipeline_tf, xtrain, y_train, return_train_score=True)\n",
        "    print('---------------------------------')\n",
        "    print(str(classifier))\n",
        "    print('-----------------------------------')\n",
        "    print('mean train accuracy ', scores['train_score'].mean())\n",
        "    print('mean test accuracy ', scores['test_score'].mean())"
      ]
    },
    {
      "cell_type": "markdown",
      "metadata": {
        "id": "WFNDQ7NUpIqj"
      },
      "source": [
        "##### We can see that using the TfidfVectorizer improved the scores so we will continue rest of the steps using this."
      ]
    },
    {
      "cell_type": "markdown",
      "metadata": {
        "id": "hLzUKp2DpIqj"
      },
      "source": [
        "### Hyperparamater Tuning"
      ]
    },
    {
      "cell_type": "code",
      "execution_count": null,
      "metadata": {
        "id": "ka5fyzayLc-I"
      },
      "outputs": [],
      "source": [
        "#Filter out stop words\n",
        "tf_vect = TfidfVectorizer(analyzer='word', stop_words=stopwords)\n",
        "X_train = tf_vect.fit_transform(xtrain)\n",
        "X_test = tf_vect.transform(xtest)\n"
      ]
    },
    {
      "cell_type": "code",
      "execution_count": null,
      "metadata": {
        "id": "Zk6o-oDNpIql",
        "outputId": "89e37e74-7d2e-45eb-efb2-911ac769bfea"
      },
      "outputs": [
        {
          "data": {
            "text/plain": [
              "((27841, 2292), (11933, 2292))"
            ]
          },
          "execution_count": 19,
          "metadata": {},
          "output_type": "execute_result"
        }
      ],
      "source": [
        "X_train.shape, X_test.shape"
      ]
    },
    {
      "cell_type": "markdown",
      "metadata": {
        "id": "wZkvLAQmpIql"
      },
      "source": [
        "#### Logistic classifier"
      ]
    },
    {
      "cell_type": "code",
      "execution_count": null,
      "metadata": {
        "id": "bkPg26ZrpIqm",
        "outputId": "237c4b24-2561-45c7-ded5-803314bb8d10"
      },
      "outputs": [
        {
          "name": "stdout",
          "output_type": "stream",
          "text": [
            "{'C': 5, 'max_iter': 600}\n",
            "0.7812578571172013\n"
          ]
        }
      ],
      "source": [
        "param_grid_LR = [{'C': [1, 2, 5], 'max_iter': [600, 800]}]\n",
        "grid_search_lr = GridSearchCV(LogisticRegression(multi_class='multinomial', solver='lbfgs'), param_grid_LR, cv=5, \n",
        "                              scoring='accuracy')\n",
        "grid_search_lr.fit(X_train, y_train)\n",
        "print(grid_search_lr.best_params_)\n",
        "print(grid_search_lr.best_score_)"
      ]
    },
    {
      "cell_type": "code",
      "execution_count": null,
      "metadata": {
        "id": "htlOGsp4pIqn",
        "outputId": "ef723f51-5f83-474e-b049-accd15677d1d"
      },
      "outputs": [
        {
          "name": "stdout",
          "output_type": "stream",
          "text": [
            "-----------------------------------------\n",
            "Logistic\n",
            "-----------------------------------------\n",
            "mean train accuracy  0.8616700216909292\n",
            "mean validation accuracy  0.7812575947149337\n",
            "Logistic test: 0.7857202715159641\n",
            "-----------------------------------------\n"
          ]
        }
      ],
      "source": [
        "log_clf = LogisticRegression(multi_class='multinomial', solver='lbfgs', C=5, max_iter=600)\n",
        "scores = cross_validate(log_clf, X_train, y_train, return_train_score=True,cv=5)\n",
        "print('-----------------------------------------')\n",
        "print('Logistic')\n",
        "print('-----------------------------------------')\n",
        "print('mean train accuracy ', scores['train_score'].mean())\n",
        "print('mean validation accuracy ', scores['test_score'].mean())\n",
        "\n",
        "log_clf.fit(X_train,y_train)\n",
        "y_pred_tr = log_clf.predict(X_train)\n",
        "y_pred = log_clf.predict(X_test)\n",
        "\n",
        "print(\"Logistic test:\", accuracy_score(y_test, y_pred))\n",
        "print('-----------------------------------------')"
      ]
    },
    {
      "cell_type": "code",
      "execution_count": null,
      "metadata": {
        "id": "WbghCVN4Lc-2"
      },
      "outputs": [],
      "source": [
        "# Creating array with cuisine names\n",
        "label = pd.DataFrame(lb.classes_, columns=['cuisine'])\n",
        "target_names = label.cuisine.values"
      ]
    },
    {
      "cell_type": "code",
      "execution_count": null,
      "metadata": {
        "id": "FQ0aqYHqLc-6",
        "outputId": "0e844894-d78d-4390-c177-450f62225215"
      },
      "outputs": [
        {
          "data": {
            "image/png": "[encoded data removed]",
            "text/plain": [
              "<Figure size 1080x1080 with 2 Axes>"
            ]
          },
          "metadata": {
            "needs_background": "light"
          },
          "output_type": "display_data"
        }
      ],
      "source": [
        "conf_mat = confusion_matrix(y_test, y_pred)\n",
        "fig, ax = plt.subplots(figsize=(15,15))\n",
        "sns.heatmap(conf_mat, annot=True, fmt='d',\n",
        "            xticklabels=target_names, yticklabels=target_names)\n",
        "plt.ylabel('Actual')\n",
        "plt.xlabel('Predicted')\n",
        "ax.set_title('Actual vs Predicted - Logistic Regression')\n",
        "plt.show()\n"
      ]
    },
    {
      "cell_type": "code",
      "execution_count": null,
      "metadata": {
        "id": "IZ27W1O7pIqq",
        "outputId": "cd9a0c54-a367-4f15-814b-26ff5f10e367"
      },
      "outputs": [
        {
          "name": "stdout",
          "output_type": "stream",
          "text": [
            "              precision    recall  f1-score   support\n",
            "\n",
            "   brazilian       0.77      0.56      0.65       147\n",
            "     british       0.65      0.51      0.57       242\n",
            "cajun_creole       0.78      0.68      0.72       495\n",
            "     chinese       0.78      0.84      0.81       760\n",
            "    filipino       0.67      0.61      0.64       200\n",
            "      french       0.61      0.63      0.62       820\n",
            "       greek       0.78      0.73      0.76       354\n",
            "      indian       0.88      0.90      0.89       899\n",
            "       irish       0.62      0.51      0.56       207\n",
            "     italian       0.82      0.89      0.85      2351\n",
            "    jamaican       0.86      0.67      0.76       135\n",
            "    japanese       0.82      0.70      0.75       443\n",
            "      korean       0.82      0.74      0.78       249\n",
            "     mexican       0.90      0.92      0.91      1957\n",
            "    moroccan       0.83      0.72      0.77       237\n",
            "     russian       0.57      0.48      0.52       144\n",
            " southern_us       0.70      0.78      0.74      1289\n",
            "     spanish       0.61      0.50      0.55       282\n",
            "        thai       0.81      0.78      0.79       484\n",
            "  vietnamese       0.68      0.56      0.61       238\n",
            "\n",
            "    accuracy                           0.79     11933\n",
            "   macro avg       0.75      0.69      0.71     11933\n",
            "weighted avg       0.78      0.79      0.78     11933\n",
            "\n"
          ]
        }
      ],
      "source": [
        "print(classification_report(y_test,  y_pred, target_names=target_names))"
      ]
    },
    {
      "cell_type": "markdown",
      "metadata": {
        "id": "vSTwUhv7pIqq"
      },
      "source": [
        "#### Multinomial Naive Bayes classifier"
      ]
    },
    {
      "cell_type": "code",
      "execution_count": null,
      "metadata": {
        "id": "ob-vK37EpIqr",
        "outputId": "d5aef365-262c-4586-c41c-975dcbbc767c"
      },
      "outputs": [
        {
          "name": "stdout",
          "output_type": "stream",
          "text": [
            "{'alpha': 0.01}\n",
            "0.7327682195323444\n"
          ]
        }
      ],
      "source": [
        "param_grid_MNB = [{'alpha': [1, 0.1, 0.01, 0.001]}]\n",
        "grid_search_mnb = GridSearchCV(MultinomialNB(), param_grid_MNB, cv=5, \n",
        "                              scoring='accuracy')\n",
        "grid_search_mnb.fit(X_train, y_train)\n",
        "print(grid_search_mnb.best_params_)\n",
        "print(grid_search_mnb.best_score_)"
      ]
    },
    {
      "cell_type": "code",
      "execution_count": null,
      "metadata": {
        "id": "fOCJNB6_pIqt",
        "outputId": "b8f1ee08-ea00-44aa-8701-7191932ed707"
      },
      "outputs": [
        {
          "name": "stdout",
          "output_type": "stream",
          "text": [
            "-----------------------------------------\n",
            "Multinomial Naive Bayes\n",
            "-----------------------------------------\n",
            "mean train accuracy  0.7872201269692269\n",
            "mean validation accuracy  0.7327661455939475\n",
            "-----------------------------------------\n",
            "Naive Bayes test: 0.7315846811363446\n",
            "-----------------------------------------\n"
          ]
        }
      ],
      "source": [
        "mnb_clf = MultinomialNB(alpha=0.01)\n",
        "scores = cross_validate(mnb_clf, X_train, y_train, return_train_score=True,cv=5)\n",
        "print('-----------------------------------------')\n",
        "print('Multinomial Naive Bayes')\n",
        "print('-----------------------------------------')\n",
        "print('mean train accuracy ', scores['train_score'].mean())\n",
        "print('mean validation accuracy ', scores['test_score'].mean())\n",
        "mnb_clf.fit(X_train,y_train)\n",
        "#y_pred_tr = mnb_clf.predict(X_train)\n",
        "y_pred_mnb = mnb_clf.predict(X_test)\n",
        "print('-----------------------------------------')\n",
        "\n",
        "print(\"Naive Bayes test:\", accuracy_score(y_test, y_pred_mnb))\n",
        "print('-----------------------------------------')"
      ]
    },
    {
      "cell_type": "code",
      "execution_count": null,
      "metadata": {
        "id": "wWx1oN-EpIqu",
        "outputId": "af1b278d-0d6a-423d-b0cd-0811a9db3259"
      },
      "outputs": [
        {
          "name": "stdout",
          "output_type": "stream",
          "text": [
            "              precision    recall  f1-score   support\n",
            "\n",
            "   brazilian       0.79      0.44      0.57       147\n",
            "     british       0.60      0.35      0.44       242\n",
            "cajun_creole       0.72      0.63      0.67       495\n",
            "     chinese       0.68      0.87      0.77       760\n",
            "    filipino       0.83      0.41      0.55       200\n",
            "      french       0.55      0.52      0.54       820\n",
            "       greek       0.78      0.55      0.65       354\n",
            "      indian       0.83      0.87      0.85       899\n",
            "       irish       0.67      0.32      0.43       207\n",
            "     italian       0.75      0.88      0.81      2351\n",
            "    jamaican       0.84      0.51      0.64       135\n",
            "    japanese       0.83      0.60      0.70       443\n",
            "      korean       0.87      0.58      0.70       249\n",
            "     mexican       0.86      0.90      0.88      1957\n",
            "    moroccan       0.85      0.64      0.73       237\n",
            "     russian       0.56      0.34      0.42       144\n",
            " southern_us       0.57      0.77      0.66      1289\n",
            "     spanish       0.67      0.33      0.44       282\n",
            "        thai       0.73      0.74      0.73       484\n",
            "  vietnamese       0.66      0.42      0.52       238\n",
            "\n",
            "    accuracy                           0.73     11933\n",
            "   macro avg       0.73      0.58      0.63     11933\n",
            "weighted avg       0.74      0.73      0.72     11933\n",
            "\n"
          ]
        }
      ],
      "source": [
        "print(classification_report(y_test,  y_pred_mnb, target_names=target_names))"
      ]
    },
    {
      "cell_type": "markdown",
      "metadata": {
        "id": "aZsqmHa_pIqu"
      },
      "source": [
        "#### SVM classifier"
      ]
    },
    {
      "cell_type": "code",
      "execution_count": null,
      "metadata": {
        "id": "lIorNqJUpIqv",
        "outputId": "e11302f7-f8a5-4707-861d-4612eaf40653"
      },
      "outputs": [
        {
          "name": "stdout",
          "output_type": "stream",
          "text": [
            "{'C': 1}\n",
            "0.7817607126180812\n"
          ]
        }
      ],
      "source": [
        "param_grid_svc = [{'C': [0.01, 0.1, 1]}]\n",
        "grid_search_svc = GridSearchCV(LinearSVC(), param_grid_svc, cv=5, \n",
        "                              scoring='accuracy')\n",
        "grid_search_svc.fit(X_train, y_train)\n",
        "print(grid_search_svc.best_params_)\n",
        "print(grid_search_svc.best_score_)"
      ]
    },
    {
      "cell_type": "code",
      "execution_count": null,
      "metadata": {
        "id": "Zz2UF8q6pIqw",
        "outputId": "342acf0a-bf9d-4661-c4f9-bdd17360fa9a"
      },
      "outputs": [
        {
          "name": "stdout",
          "output_type": "stream",
          "text": [
            "-----------------------------------------\n",
            "LinearSVC\n",
            "-----------------------------------------\n",
            "mean train accuracy  0.8607179038071895\n",
            "mean validation accuracy  0.7817608304572732\n",
            "-----------------------------------------\n",
            "Test Accuracy: 0.7828710299170368\n",
            "-----------------------------------------\n"
          ]
        }
      ],
      "source": [
        "svc_clf = LinearSVC(C=1)\n",
        "scores = cross_validate(svc_clf, X_train, y_train, return_train_score=True,cv=5)\n",
        "print('-----------------------------------------')\n",
        "print('LinearSVC')\n",
        "print('-----------------------------------------')\n",
        "print('mean train accuracy ', scores['train_score'].mean())\n",
        "print('mean validation accuracy ', scores['test_score'].mean())\n",
        "svc_clf.fit(X_train,y_train)\n",
        "#y_pred_tr = mnb_clf.predict(X_train)\n",
        "y_pred_svc = svc_clf.predict(X_test)\n",
        "print('-----------------------------------------')\n",
        "\n",
        "print(\"Test Accuracy:\", accuracy_score(y_test, y_pred_svc))\n",
        "print('-----------------------------------------')"
      ]
    },
    {
      "cell_type": "code",
      "execution_count": null,
      "metadata": {
        "id": "gSuALzqxpIqx",
        "outputId": "a1484f99-623d-4aaa-821d-7c36e2c65736"
      },
      "outputs": [
        {
          "name": "stdout",
          "output_type": "stream",
          "text": [
            "              precision    recall  f1-score   support\n",
            "\n",
            "   brazilian       0.72      0.54      0.62       147\n",
            "     british       0.67      0.49      0.56       242\n",
            "cajun_creole       0.77      0.68      0.72       495\n",
            "     chinese       0.77      0.84      0.80       760\n",
            "    filipino       0.69      0.56      0.62       200\n",
            "      french       0.63      0.63      0.63       820\n",
            "       greek       0.76      0.74      0.75       354\n",
            "      indian       0.86      0.90      0.88       899\n",
            "       irish       0.63      0.45      0.53       207\n",
            "     italian       0.82      0.90      0.85      2351\n",
            "    jamaican       0.80      0.67      0.73       135\n",
            "    japanese       0.83      0.70      0.76       443\n",
            "      korean       0.82      0.74      0.78       249\n",
            "     mexican       0.90      0.92      0.91      1957\n",
            "    moroccan       0.82      0.71      0.76       237\n",
            "     russian       0.57      0.47      0.52       144\n",
            " southern_us       0.70      0.79      0.74      1289\n",
            "     spanish       0.62      0.46      0.53       282\n",
            "        thai       0.79      0.77      0.78       484\n",
            "  vietnamese       0.64      0.53      0.58       238\n",
            "\n",
            "    accuracy                           0.78     11933\n",
            "   macro avg       0.74      0.67      0.70     11933\n",
            "weighted avg       0.78      0.78      0.78     11933\n",
            "\n"
          ]
        }
      ],
      "source": [
        "print(classification_report(y_test,  y_pred_svc, target_names=target_names))"
      ]
    },
    {
      "cell_type": "markdown",
      "metadata": {
        "id": "d-T7aq6mpIqx"
      },
      "source": [
        "#### Random Forest classifier"
      ]
    },
    {
      "cell_type": "code",
      "execution_count": null,
      "metadata": {
        "id": "JXVe1ujJLc-a"
      },
      "outputs": [],
      "source": [
        "\n",
        "rnd_clf = RandomForestClassifier(n_jobs=-1,n_estimators=50, oob_score = True, max_depth=20)"
      ]
    },
    {
      "cell_type": "code",
      "execution_count": null,
      "metadata": {
        "id": "aJZA9dS3Lc-c"
      },
      "outputs": [],
      "source": [
        "param_grid = { \n",
        "    'n_estimators': [100,500,1000, 1500],\n",
        "    'max_features': ['auto', 'sqrt', 'log2'],\n",
        "    'max_depth': [10, 15, 20]\n",
        "}\n"
      ]
    },
    {
      "cell_type": "code",
      "execution_count": null,
      "metadata": {
        "id": "j9p_Ju1BLc-e",
        "outputId": "37694d76-522a-4a92-af49-b0eb7bed2dc3"
      },
      "outputs": [
        {
          "data": {
            "text/plain": [
              "GridSearchCV(cv=5, error_score='raise-deprecating',\n",
              "             estimator=RandomForestClassifier(bootstrap=True, class_weight=None,\n",
              "                                              criterion='gini', max_depth=20,\n",
              "                                              max_features='auto',\n",
              "                                              max_leaf_nodes=None,\n",
              "                                              min_impurity_decrease=0.0,\n",
              "                                              min_impurity_split=None,\n",
              "                                              min_samples_leaf=1,\n",
              "                                              min_samples_split=2,\n",
              "                                              min_weight_fraction_leaf=0.0,\n",
              "                                              n_estimators=50, n_jobs=-1,\n",
              "                                              oob_score=True, random_state=None,\n",
              "                                              verbose=0, warm_start=False),\n",
              "             iid='warn', n_jobs=None,\n",
              "             param_grid={'max_depth': [10, 15, 20],\n",
              "                         'max_features': ['auto', 'sqrt', 'log2'],\n",
              "                         'n_estimators': [100, 500, 1000, 1500]},\n",
              "             pre_dispatch='2*n_jobs', refit=True, return_train_score=False,\n",
              "             scoring=None, verbose=0)"
            ]
          },
          "execution_count": 33,
          "metadata": {},
          "output_type": "execute_result"
        }
      ],
      "source": [
        "#Search for best parameters for Random Forest\n",
        "CV_rfc = GridSearchCV(estimator=rnd_clf, param_grid=param_grid, cv= 5)\n",
        "CV_rfc.fit(X_train, y_train)"
      ]
    },
    {
      "cell_type": "code",
      "execution_count": null,
      "metadata": {
        "id": "Ajo0grBXLc-g",
        "outputId": "fb093687-0731-4432-e6df-0691a97f887a"
      },
      "outputs": [
        {
          "name": "stdout",
          "output_type": "stream",
          "text": [
            "{'max_depth': 20, 'max_features': 'sqrt', 'n_estimators': 1500}\n"
          ]
        }
      ],
      "source": [
        "print(CV_rfc.best_params_)"
      ]
    },
    {
      "cell_type": "code",
      "execution_count": null,
      "metadata": {
        "id": "9bJESUorLc-m",
        "outputId": "fb70956e-bf76-4551-c537-518825524d18"
      },
      "outputs": [
        {
          "name": "stdout",
          "output_type": "stream",
          "text": [
            "--------------------------------------------------------------------------\n",
            "RandomForest train: 0.73837146654215\n",
            "RandomForest test: 0.6440962038045756\n",
            "--------------------------------------------------------------------------\n"
          ]
        }
      ],
      "source": [
        "#Rerun RandomForest Classifier with new parameters\n",
        "rnd_clf = RandomForestClassifier(n_estimators=1000, max_features='sqrt', max_depth=20, random_state=42)\n",
        "\n",
        "rnd_clf.fit(X_train, y_train)\n",
        "y_pred_tr = rnd_clf.predict(X_train)\n",
        "y_pred_rnd = rnd_clf.predict(X_test)\n",
        "print(\"--------------------------------------------------------------------------\")\n",
        "print(\"RandomForest train:\", accuracy_score(y_train, rnd_clf.predict(X_train)))\n",
        "print(\"RandomForest test:\", accuracy_score(y_test, y_pred_rnd))\n",
        "print(\"--------------------------------------------------------------------------\")\n"
      ]
    },
    {
      "cell_type": "code",
      "execution_count": null,
      "metadata": {
        "id": "aBnpES-VLc-j",
        "outputId": "b0e7bfa7-38d9-4b07-aec0-d641eebac536"
      },
      "outputs": [
        {
          "name": "stdout",
          "output_type": "stream",
          "text": [
            "              precision    recall  f1-score   support\n",
            "\n",
            "   brazilian       1.00      0.16      0.27       147\n",
            "     british       0.00      0.00      0.00       242\n",
            "cajun_creole       0.89      0.48      0.62       495\n",
            "     chinese       0.63      0.88      0.73       760\n",
            "    filipino       1.00      0.09      0.16       200\n",
            "      french       0.79      0.15      0.25       820\n",
            "       greek       0.91      0.32      0.48       354\n",
            "      indian       0.80      0.84      0.82       899\n",
            "       irish       0.00      0.00      0.00       207\n",
            "     italian       0.52      0.95      0.67      2351\n",
            "    jamaican       1.00      0.24      0.39       135\n",
            "    japanese       0.95      0.47      0.63       443\n",
            "      korean       0.96      0.37      0.54       249\n",
            "     mexican       0.79      0.90      0.84      1957\n",
            "    moroccan       0.94      0.38      0.54       237\n",
            "     russian       1.00      0.01      0.03       144\n",
            " southern_us       0.49      0.70      0.57      1289\n",
            "     spanish       1.00      0.03      0.06       282\n",
            "        thai       0.79      0.71      0.74       484\n",
            "  vietnamese       0.86      0.31      0.46       238\n",
            "\n",
            "    accuracy                           0.64     11933\n",
            "   macro avg       0.77      0.40      0.44     11933\n",
            "weighted avg       0.70      0.64      0.60     11933\n",
            "\n"
          ]
        },
        {
          "name": "stderr",
          "output_type": "stream",
          "text": [
            "C:\\Users\\maleg\\Anaconda3\\lib\\site-packages\\sklearn\\metrics\\classification.py:1437: UndefinedMetricWarning: Precision and F-score are ill-defined and being set to 0.0 in labels with no predicted samples.\n",
            "  'precision', 'predicted', average, warn_for)\n",
            "C:\\Users\\maleg\\Anaconda3\\lib\\site-packages\\sklearn\\metrics\\classification.py:1437: UndefinedMetricWarning: Precision and F-score are ill-defined and being set to 0.0 in labels with no predicted samples.\n",
            "  'precision', 'predicted', average, warn_for)\n",
            "C:\\Users\\maleg\\Anaconda3\\lib\\site-packages\\sklearn\\metrics\\classification.py:1437: UndefinedMetricWarning: Precision and F-score are ill-defined and being set to 0.0 in labels with no predicted samples.\n",
            "  'precision', 'predicted', average, warn_for)\n"
          ]
        }
      ],
      "source": [
        "print(classification_report(y_test,  y_pred_rnd, target_names=target_names))"
      ]
    },
    {
      "cell_type": "code",
      "metadata": {
        "id": "9fhXZrd3Lc-p"
      },
      "source": [
        "##### The RandomForest classifier seems to be overfitting. And it is not better than the logistic classifier or SVC. So we will not look into this more."
      ],
      "execution_count": null,
      "outputs": []
    },
    {
      "cell_type": "markdown",
      "metadata": {
        "id": "LwjUBs0zpIq3"
      },
      "source": [
        "##### Comparing the precision/recall across the various cuisine for the three classifiers Logistic, MNB and SVC we can see that the MNB has less precision for the minority classes. The Logistic and SVC are equally good across various cuisine, the minimum precision is 59% for Russian Cuisine and highest is 90% for Mexican cuisine. Next lets try the Voting Classifier with the above 3 classifiers to see if we can improve our scores."
      ]
    },
    {
      "cell_type": "markdown",
      "metadata": {
        "id": "BH7Ure6-pIq3"
      },
      "source": [
        "#### Voting Classifier"
      ]
    },
    {
      "cell_type": "code",
      "execution_count": null,
      "metadata": {
        "id": "IRLuSUs_bMeV",
        "outputId": "24444405-49e3-4618-ac5b-01ace8f72712"
      },
      "outputs": [
        {
          "name": "stdout",
          "output_type": "stream",
          "text": [
            "Train accuracy: 0.8531661937430408\n",
            "Test accuracy: 0.7835414397050197\n"
          ]
        }
      ],
      "source": [
        "# Lets try using a voting Classifier for our 3 best classifiers\n",
        "voting_clf = VotingClassifier(\n",
        "        estimators=[('lr', log_clf), ('mnb', mnb_clf), ('svc', svc_clf)],\n",
        "        voting='hard'\n",
        "    )\n",
        "voting_clf.fit(X_train, y_train)\n",
        "\n",
        "print('Train accuracy:', accuracy_score(y_train, voting_clf.predict(X_train)))\n",
        "y_pred_voting = voting_clf.predict(X_test)\n",
        "print('Test accuracy:', accuracy_score(y_test, y_pred_voting))"
      ]
    },
    {
      "cell_type": "code",
      "execution_count": null,
      "metadata": {
        "id": "OFeGsDHYbMec",
        "outputId": "ef966dfc-a791-4671-fb01-08427674bbeb"
      },
      "outputs": [
        {
          "name": "stdout",
          "output_type": "stream",
          "text": [
            "              precision    recall  f1-score   support\n",
            "\n",
            "   brazilian       0.71      0.55      0.62       147\n",
            "     british       0.62      0.50      0.55       242\n",
            "cajun_creole       0.76      0.69      0.72       495\n",
            "     chinese       0.76      0.86      0.80       760\n",
            "    filipino       0.70      0.58      0.64       200\n",
            "      french       0.61      0.64      0.62       820\n",
            "       greek       0.78      0.73      0.75       354\n",
            "      indian       0.87      0.90      0.88       899\n",
            "       irish       0.62      0.44      0.52       207\n",
            "     italian       0.81      0.90      0.85      2351\n",
            "    jamaican       0.87      0.67      0.76       135\n",
            "    japanese       0.84      0.69      0.76       443\n",
            "      korean       0.83      0.73      0.78       249\n",
            "     mexican       0.90      0.92      0.91      1957\n",
            "    moroccan       0.84      0.72      0.77       237\n",
            "     russian       0.58      0.44      0.50       144\n",
            " southern_us       0.69      0.79      0.74      1289\n",
            "     spanish       0.62      0.45      0.53       282\n",
            "        thai       0.81      0.78      0.79       484\n",
            "  vietnamese       0.70      0.53      0.60       238\n",
            "\n",
            "    accuracy                           0.78     11933\n",
            "   macro avg       0.75      0.67      0.70     11933\n",
            "weighted avg       0.78      0.78      0.78     11933\n",
            "\n"
          ]
        }
      ],
      "source": [
        "print(classification_report(y_test,  y_pred_voting, target_names=target_names))"
      ]
    },
    {
      "cell_type": "markdown",
      "metadata": {
        "id": "boIFt926pIq6"
      },
      "source": [
        "##### The Voting Classifier only slightly improved the accuracy."
      ]
    },
    {
      "cell_type": "markdown",
      "metadata": {
        "id": "lkX4ICeHpIq6"
      },
      "source": [
        "### SMOTE"
      ]
    },
    {
      "cell_type": "code",
      "execution_count": null,
      "metadata": {
        "id": "vzfaxMbWbMd9"
      },
      "outputs": [],
      "source": [
        "# Our dataset is imbalanced with maximum recipes for Italian, Mexican and Souther_US. \n",
        "# Lets see if SMOTE help us improve our results\n",
        "X = X_train\n",
        "y = y_train"
      ]
    },
    {
      "cell_type": "code",
      "execution_count": null,
      "metadata": {
        "id": "xAOmoQ4HbMd_"
      },
      "outputs": [],
      "source": [
        "sm = SMOTE(random_state=42)\n",
        "X_res, y_res = sm.fit_resample(X, y)"
      ]
    },
    {
      "cell_type": "markdown",
      "metadata": {
        "id": "kU3W9qImpIq8"
      },
      "source": [
        "#### Logistic Classifier"
      ]
    },
    {
      "cell_type": "code",
      "execution_count": null,
      "metadata": {
        "id": "pvf4tyOAbMeA",
        "outputId": "8f8d614b-03ab-4942-c903-f6c9af26b883"
      },
      "outputs": [
        {
          "name": "stdout",
          "output_type": "stream",
          "text": [
            "Logistic train: LogisticRegression 0.920393657736468\n",
            "Logistic test: LogisticRegression 0.7473393111539428\n",
            "==================================================================\n"
          ]
        }
      ],
      "source": [
        "clf1 = log_clf.fit(X_res, y_res)\n",
        "y_pred1 = log_clf.predict(X_test) \n",
        "\n",
        "print(\"Logistic train:\",clf1.__class__.__name__, accuracy_score(y_res, clf1.predict(X_res)))\n",
        "print(\"Logistic test:\",clf1.__class__.__name__, accuracy_score(y_test, y_pred1))\n",
        "print(\"==================================================================\")"
      ]
    },
    {
      "cell_type": "code",
      "execution_count": null,
      "metadata": {
        "id": "XxQgb5kApIq-",
        "outputId": "cb894f68-27d9-4777-defe-c1de96a97d0f"
      },
      "outputs": [
        {
          "name": "stdout",
          "output_type": "stream",
          "text": [
            "              precision    recall  f1-score   support\n",
            "\n",
            "   brazilian       0.50      0.66      0.57       147\n",
            "     british       0.44      0.62      0.51       242\n",
            "cajun_creole       0.68      0.74      0.71       495\n",
            "     chinese       0.83      0.76      0.79       760\n",
            "    filipino       0.55      0.69      0.61       200\n",
            "      french       0.59      0.62      0.61       820\n",
            "       greek       0.67      0.80      0.72       354\n",
            "      indian       0.89      0.83      0.86       899\n",
            "       irish       0.41      0.61      0.49       207\n",
            "     italian       0.90      0.77      0.83      2351\n",
            "    jamaican       0.60      0.73      0.66       135\n",
            "    japanese       0.72      0.73      0.72       443\n",
            "      korean       0.73      0.77      0.75       249\n",
            "     mexican       0.94      0.86      0.90      1957\n",
            "    moroccan       0.71      0.78      0.74       237\n",
            "     russian       0.33      0.57      0.42       144\n",
            " southern_us       0.79      0.68      0.73      1289\n",
            "     spanish       0.39      0.59      0.47       282\n",
            "        thai       0.79      0.73      0.76       484\n",
            "  vietnamese       0.52      0.65      0.58       238\n",
            "\n",
            "    accuracy                           0.75     11933\n",
            "   macro avg       0.65      0.71      0.67     11933\n",
            "weighted avg       0.77      0.75      0.76     11933\n",
            "\n"
          ]
        }
      ],
      "source": [
        "print(classification_report(y_test, y_pred1, target_names=target_names))"
      ]
    },
    {
      "cell_type": "markdown",
      "metadata": {
        "id": "xpOGDgUCpIq-"
      },
      "source": [
        "#### LinearSVC Classifier"
      ]
    },
    {
      "cell_type": "code",
      "execution_count": null,
      "metadata": {
        "id": "izAKZp1ypIq_",
        "outputId": "3f709a28-4610-4c9f-bcbf-10de31befa76"
      },
      "outputs": [
        {
          "name": "stdout",
          "output_type": "stream",
          "text": [
            "SVC train SMOTE: LinearSVC 0.9100965919445964\n",
            "SVC test SMOTE: LinearSVC 0.743568256096539\n",
            "==================================================================\n"
          ]
        }
      ],
      "source": [
        "clf3 = svc_clf.fit(X_res, y_res)\n",
        "y_pred3 = svc_clf.predict(X_test)\n",
        "\n",
        "print(\"SVC train SMOTE:\",clf3.__class__.__name__, accuracy_score(y_res, clf3.predict(X_res)))\n",
        "print(\"SVC test SMOTE:\",clf3.__class__.__name__, accuracy_score(y_test, y_pred3))\n",
        "print(\"==================================================================\")\n",
        "    "
      ]
    },
    {
      "cell_type": "code",
      "execution_count": null,
      "metadata": {
        "id": "xudFXDGApIrA",
        "outputId": "2be9c75d-23f3-4f09-ddd0-f15bc737f772"
      },
      "outputs": [
        {
          "name": "stdout",
          "output_type": "stream",
          "text": [
            "              precision    recall  f1-score   support\n",
            "\n",
            "   brazilian       0.46      0.64      0.54       147\n",
            "     british       0.42      0.62      0.50       242\n",
            "cajun_creole       0.69      0.75      0.72       495\n",
            "     chinese       0.83      0.76      0.79       760\n",
            "    filipino       0.52      0.67      0.59       200\n",
            "      french       0.60      0.61      0.60       820\n",
            "       greek       0.64      0.79      0.71       354\n",
            "      indian       0.88      0.83      0.85       899\n",
            "       irish       0.40      0.61      0.48       207\n",
            "     italian       0.90      0.77      0.83      2351\n",
            "    jamaican       0.60      0.74      0.66       135\n",
            "    japanese       0.73      0.73      0.73       443\n",
            "      korean       0.72      0.77      0.74       249\n",
            "     mexican       0.93      0.86      0.89      1957\n",
            "    moroccan       0.67      0.77      0.72       237\n",
            "     russian       0.34      0.59      0.43       144\n",
            " southern_us       0.79      0.66      0.72      1289\n",
            "     spanish       0.39      0.57      0.46       282\n",
            "        thai       0.79      0.73      0.76       484\n",
            "  vietnamese       0.53      0.65      0.58       238\n",
            "\n",
            "    accuracy                           0.74     11933\n",
            "   macro avg       0.64      0.71      0.67     11933\n",
            "weighted avg       0.77      0.74      0.75     11933\n",
            "\n"
          ]
        }
      ],
      "source": [
        "print(classification_report(y_test,  y_pred3, target_names=target_names))"
      ]
    },
    {
      "cell_type": "markdown",
      "metadata": {
        "id": "NMO6dDb1pIrA"
      },
      "source": [
        "#### Voting Classifier"
      ]
    },
    {
      "cell_type": "code",
      "execution_count": null,
      "metadata": {
        "id": "96F9M4nWbMee",
        "outputId": "bc693009-8ac6-4aaf-b244-ce8bfa7a268e"
      },
      "outputs": [
        {
          "name": "stdout",
          "output_type": "stream",
          "text": [
            "0.9125751776927282\n",
            "0.7495181429648873\n"
          ]
        }
      ],
      "source": [
        "voting_clf.fit(X_res, y_res)\n",
        "print(accuracy_score(y_res, voting_clf.predict(X_res)))\n",
        "print(accuracy_score(y_test, voting_clf.predict(X_test)))"
      ]
    },
    {
      "cell_type": "code",
      "execution_count": null,
      "metadata": {
        "id": "YvAEX4XwbMef",
        "outputId": "9386ec94-3003-4ecd-daf0-f02f2735e36a"
      },
      "outputs": [
        {
          "name": "stdout",
          "output_type": "stream",
          "text": [
            "              precision    recall  f1-score   support\n",
            "\n",
            "   brazilian       0.46      0.65      0.54       147\n",
            "     british       0.39      0.64      0.48       242\n",
            "cajun_creole       0.66      0.77      0.71       495\n",
            "     chinese       0.81      0.79      0.80       760\n",
            "    filipino       0.56      0.69      0.62       200\n",
            "      french       0.58      0.62      0.60       820\n",
            "       greek       0.65      0.81      0.72       354\n",
            "      indian       0.89      0.84      0.86       899\n",
            "       irish       0.42      0.60      0.50       207\n",
            "     italian       0.91      0.77      0.83      2351\n",
            "    jamaican       0.63      0.74      0.68       135\n",
            "    japanese       0.76      0.71      0.74       443\n",
            "      korean       0.75      0.77      0.76       249\n",
            "     mexican       0.94      0.86      0.90      1957\n",
            "    moroccan       0.72      0.77      0.74       237\n",
            "     russian       0.35      0.58      0.44       144\n",
            " southern_us       0.80      0.67      0.73      1289\n",
            "     spanish       0.41      0.57      0.47       282\n",
            "        thai       0.81      0.73      0.77       484\n",
            "  vietnamese       0.54      0.65      0.59       238\n",
            "\n",
            "    accuracy                           0.75     11933\n",
            "   macro avg       0.65      0.71      0.67     11933\n",
            "weighted avg       0.78      0.75      0.76     11933\n",
            "\n"
          ]
        }
      ],
      "source": [
        "print(classification_report(y_test,  voting_clf.predict(X_test), target_names=target_names))"
      ]
    },
    {
      "cell_type": "markdown",
      "metadata": {
        "id": "L6LKEOQ1pIrC"
      },
      "source": [
        "##### Balancing the dataset has not really improved our models."
      ]
    },
    {
      "cell_type": "markdown",
      "metadata": {
        "id": "c9X05uYGpIrD"
      },
      "source": [
        "### Dimensionality Reduction"
      ]
    },
    {
      "cell_type": "code",
      "execution_count": null,
      "metadata": {
        "id": "2qv5gOIpbMek",
        "outputId": "b76e4c8a-51df-410d-8e89-df06a791d2f4"
      },
      "outputs": [
        {
          "name": "stdout",
          "output_type": "stream",
          "text": [
            "Explained variance sum:  0.9665488331124685\n"
          ]
        }
      ],
      "source": [
        "#PCA does not support sparse input. So we useTruncatedSVD as a alternative.\n",
        "from sklearn.decomposition import TruncatedSVD\n",
        "# We reduce the features to 1000\n",
        "svd = TruncatedSVD(n_components=1000, n_iter=7, random_state=42)\n",
        "svd.fit(X_train)  \n",
        "\n",
        "print('Explained variance sum: ',svd.explained_variance_ratio_.sum())  \n"
      ]
    },
    {
      "cell_type": "code",
      "execution_count": null,
      "metadata": {
        "id": "xfLtpQJIbMen"
      },
      "outputs": [],
      "source": [
        "# The explained variance is 99%, so we can use the above svd to reduce our number of features\n",
        "X_train_reduced = svd.transform(X_train)\n",
        "X_test_reduced = svd.transform(X_test)"
      ]
    },
    {
      "cell_type": "markdown",
      "metadata": {
        "id": "m0fYXZ4LpIrF"
      },
      "source": [
        "#### LinearSVC Classifier"
      ]
    },
    {
      "cell_type": "code",
      "execution_count": null,
      "metadata": {
        "id": "bg01Fnc7bMep",
        "outputId": "df1db5fe-0400-414b-9724-b788709c8650"
      },
      "outputs": [
        {
          "name": "stdout",
          "output_type": "stream",
          "text": [
            "SVC train PCA: 0.837541754965698\n",
            "SVC test PCA: 0.7811950054470795\n",
            "==================================================================\n"
          ]
        }
      ],
      "source": [
        "# Lets use the reduced features to train our SVC model\n",
        "svc_clf.fit(X_train_reduced, y_train)\n",
        "y_pred4 = svc_clf.predict(X_test_reduced)\n",
        "\n",
        "print(\"SVC train PCA:\", accuracy_score(y_train, svc_clf.predict(X_train_reduced)))\n",
        "print(\"SVC test PCA:\", accuracy_score(y_test, y_pred4))\n",
        "print(\"==================================================================\")\n",
        "    "
      ]
    },
    {
      "cell_type": "markdown",
      "metadata": {
        "id": "wbytWntwpIrG"
      },
      "source": [
        "#### Logistic Classifier"
      ]
    },
    {
      "cell_type": "code",
      "execution_count": null,
      "metadata": {
        "id": "-x-VGafLbMem",
        "outputId": "952ab809-b98c-418f-b71d-7d0ec60dee96"
      },
      "outputs": [
        {
          "name": "stdout",
          "output_type": "stream",
          "text": [
            "0.8441147947272009\n",
            "0.7842118494930026\n"
          ]
        }
      ],
      "source": [
        "# Lets use the reduced features to train our SVC model\n",
        "log_clf.fit(X_train_reduced, y_train)\n",
        "print(accuracy_score(y_train, log_clf.predict(X_train_reduced)))\n",
        "print(accuracy_score(y_test, log_clf.predict(X_test_reduced)))"
      ]
    },
    {
      "cell_type": "markdown",
      "metadata": {
        "id": "nDAIXtTkpIrH"
      },
      "source": [
        "##### The dimensionality reduction has increased the speed of training but the accuracy hasnt improved."
      ]
    },
    {
      "cell_type": "code",
      "metadata": {
        "id": "HU8YTEWSbMeq"
      },
      "source": [
        "### Summary\n",
        "The LinearSVC, Logistic Classifier and Voting Classfier seem the best with around 77.8% accuracy. The LinearSVC and Logistic classifiers have comparable precision and recall metrics across various classes.    \n",
        "When we look at the confusion matrix for the precision and recall for various cuisines, we see that the precision for Mexican cuisine is always the highest around 90%. The precision for Japanese, Indian, Italian, Chinese are also quite high above 84%.  The precision for British, Irish, Russian and Brazialian cuisines are the worst aroung 50-60%. \n",
        "From our exploratory analysis, the Japanese, Indian, Chinese, Italian cuisines had some ingredients which were very unique to those cuisine. Whereas British, Irish,Russian cuisines did not have any unique ingredients. May be that is the reason for less precision for these cuisines.\n",
        "\n",
        "Improvements:\n",
        "\n",
        "- Better stemming techniques to merge ingredients names from different langauges like Indian, French, Japanese etc.\n",
        "- More data for the minority classes\n",
        "- For cuisine not having any unique ingredients, may be including some cooking steps like bake,roast might help\n",
        "- Get more info for cuisine not having any unique ingredients\n",
        "- Deep Learning Techniques might help"
      ],
      "execution_count": null,
      "outputs": []
    }
  ],
  "metadata": {
    "colab": {
      "provenance": []
    },
    "kernelspec": {
      "display_name": "Python 3",
      "language": "python",
      "name": "python3"
    },
    "language_info": {
      "codemirror_mode": {
        "name": "ipython",
        "version": 3
      },
      "file_extension": ".py",
      "mimetype": "text/x-python",
      "name": "python",
      "nbconvert_exporter": "python",
      "pygments_lexer": "ipython3",
      "version": "3.6.6"
    }
  },
  "nbformat": 4,
  "nbformat_minor": 0
}